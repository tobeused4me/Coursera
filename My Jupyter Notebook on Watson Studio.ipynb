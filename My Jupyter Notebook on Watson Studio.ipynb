{
 "cells": [
  {
   "cell_type": "markdown",
   "id": "d6ef10bf",
   "metadata": {},
   "source": [
    "# My Jupyter Notebook on Watson Studio"
   ]
  },
  {
   "cell_type": "markdown",
   "id": "7a5a51df",
   "metadata": {},
   "source": [
    "## Jan Zarnay\n",
    "Mechanical Engineer"
   ]
  },
  {
   "cell_type": "markdown",
   "id": "f3e98c9b",
   "metadata": {},
   "source": [
    "*I am interested in data science as this is not used in mechanical engineer much enough*"
   ]
  },
  {
   "cell_type": "markdown",
   "id": "1fa9135d",
   "metadata": {},
   "source": [
    "### Short def to return square of given number"
   ]
  },
  {
   "cell_type": "code",
   "execution_count": 3,
   "id": "89334e5b",
   "metadata": {},
   "outputs": [
    {
     "data": {
      "text/plain": [
       "1089"
      ]
     },
     "execution_count": 3,
     "metadata": {},
     "output_type": "execute_result"
    }
   ],
   "source": [
    "def square(number):\n",
    "    return number**2\n",
    "\n",
    "square(33)"
   ]
  },
  {
   "cell_type": "markdown",
   "id": "f1084966",
   "metadata": {},
   "source": [
    "[Link to google search.](https://google.com)\n",
    "\n",
    "\n",
    "---\n",
    "see the Rule above\n",
    "\n",
    "* first\n",
    "* second\n",
    "* third"
   ]
  },
  {
   "cell_type": "code",
   "execution_count": null,
   "id": "f1ba4767",
   "metadata": {},
   "outputs": [],
   "source": []
  }
 ],
 "metadata": {
  "kernelspec": {
   "display_name": "Python 3 (ipykernel)",
   "language": "python",
   "name": "python3"
  },
  "language_info": {
   "codemirror_mode": {
    "name": "ipython",
    "version": 3
   },
   "file_extension": ".py",
   "mimetype": "text/x-python",
   "name": "python",
   "nbconvert_exporter": "python",
   "pygments_lexer": "ipython3",
   "version": "3.9.13"
  }
 },
 "nbformat": 4,
 "nbformat_minor": 5
}
